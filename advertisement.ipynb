{
 "cells": [
  {
   "cell_type": "markdown",
   "id": "f03729ce",
   "metadata": {},
   "source": [
    "# Task 4\n",
    "Sales prediction using python"
   ]
  },
  {
   "cell_type": "code",
   "execution_count": null,
   "id": "e8676b2e",
   "metadata": {},
   "outputs": [],
   "source": [
    "#importing packages\n",
    "import pandas as pd\n",
    "from sklearn.model_selection import train_test_split\n",
    "from sklearn.linear_model import LinearRegression\n",
    "from sklearn.metrics import mean_squared_error\n",
    "from sklearn.metrics import mean_absolute_error"
   ]
  },
  {
   "cell_type": "code",
   "execution_count": null,
   "id": "1dc77ddb",
   "metadata": {
    "scrolled": true
   },
   "outputs": [],
   "source": [
    "#reading the file\n",
    "data=pd.read_csv(\"H:\\\\CodSoft_internships\\\\advertising.csv\")"
   ]
  },
  {
   "cell_type": "code",
   "execution_count": null,
   "id": "c3448e60",
   "metadata": {},
   "outputs": [],
   "source": [
    "data.head()"
   ]
  },
  {
   "cell_type": "code",
   "execution_count": null,
   "id": "4ef24140",
   "metadata": {},
   "outputs": [],
   "source": [
    "#checking null values\n",
    "data.isnull().sum()"
   ]
  },
  {
   "cell_type": "code",
   "execution_count": null,
   "id": "3e034078",
   "metadata": {},
   "outputs": [],
   "source": [
    "data.columns"
   ]
  },
  {
   "cell_type": "code",
   "execution_count": null,
   "id": "208f4af4",
   "metadata": {},
   "outputs": [],
   "source": [
    "x=data['Sales']"
   ]
  },
  {
   "cell_type": "code",
   "execution_count": null,
   "id": "1a15ff37",
   "metadata": {},
   "outputs": [],
   "source": [
    "col=['TV', 'Radio', 'Newspaper']"
   ]
  },
  {
   "cell_type": "code",
   "execution_count": null,
   "id": "fba851bc",
   "metadata": {},
   "outputs": [],
   "source": [
    "y=data[col]"
   ]
  },
  {
   "cell_type": "code",
   "execution_count": null,
   "id": "2d49379b",
   "metadata": {},
   "outputs": [],
   "source": [
    "x"
   ]
  },
  {
   "cell_type": "code",
   "execution_count": null,
   "id": "3031f2df",
   "metadata": {},
   "outputs": [],
   "source": [
    "y"
   ]
  },
  {
   "cell_type": "code",
   "execution_count": null,
   "id": "f3009e10",
   "metadata": {},
   "outputs": [],
   "source": [
    "#splitting\n",
    "train_x,test_x,train_y,test_y= train_test_split(y,x,random_state=0)"
   ]
  },
  {
   "cell_type": "code",
   "execution_count": null,
   "id": "6ba46717",
   "metadata": {},
   "outputs": [],
   "source": [
    "#model building\n",
    "model = LinearRegression()"
   ]
  },
  {
   "cell_type": "code",
   "execution_count": null,
   "id": "553cc3a3",
   "metadata": {},
   "outputs": [],
   "source": [
    "#model training\n",
    "model.fit(train_x,train_y)"
   ]
  },
  {
   "cell_type": "code",
   "execution_count": null,
   "id": "921d02f3",
   "metadata": {},
   "outputs": [],
   "source": [
    "#predictiong\n",
    "pred=model.predict(test_x)"
   ]
  },
  {
   "cell_type": "code",
   "execution_count": null,
   "id": "69ed560d",
   "metadata": {},
   "outputs": [],
   "source": [
    "#checking  mean_squared_error\n",
    "mean_squared_error(test_y, pred)"
   ]
  },
  {
   "cell_type": "code",
   "execution_count": null,
   "id": "dd2b1d9b",
   "metadata": {},
   "outputs": [],
   "source": [
    "#checking mean_absolute_error\n",
    "mean_absolute_error(test_y, pred)"
   ]
  },
  {
   "cell_type": "code",
   "execution_count": null,
   "id": "7b3aac9a",
   "metadata": {},
   "outputs": [],
   "source": []
  },
  {
   "cell_type": "code",
   "execution_count": null,
   "id": "92dfccce",
   "metadata": {},
   "outputs": [],
   "source": []
  }
 ],
 "metadata": {
  "kernelspec": {
   "display_name": "Python 3 (ipykernel)",
   "language": "python",
   "name": "python3"
  },
  "language_info": {
   "codemirror_mode": {
    "name": "ipython",
    "version": 3
   },
   "file_extension": ".py",
   "mimetype": "text/x-python",
   "name": "python",
   "nbconvert_exporter": "python",
   "pygments_lexer": "ipython3",
   "version": "3.11.3"
  }
 },
 "nbformat": 4,
 "nbformat_minor": 5
}
